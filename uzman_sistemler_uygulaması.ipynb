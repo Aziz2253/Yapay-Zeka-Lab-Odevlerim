{
 "cells": [
  {
   "cell_type": "code",
   "execution_count": 44,
   "metadata": {},
   "outputs": [
    {
     "name": "stdout",
     "output_type": "stream",
     "text": [
      "Requirement already satisfied: experta in c:\\users\\azizd\\anaconda3\\envs\\deneme\\lib\\site-packages (1.9.4)\n",
      "Requirement already satisfied: frozendict==1.2 in c:\\users\\azizd\\anaconda3\\envs\\deneme\\lib\\site-packages (from experta) (1.2)\n",
      "Requirement already satisfied: schema==0.6.7 in c:\\users\\azizd\\anaconda3\\envs\\deneme\\lib\\site-packages (from experta) (0.6.7)\n"
     ]
    }
   ],
   "source": [
    "!pip install experta --upgrade"
   ]
  },
  {
   "cell_type": "code",
   "execution_count": 45,
   "metadata": {},
   "outputs": [],
   "source": [
    "from random import choice\n",
    "from experta import *\n"
   ]
  },
  {
   "cell_type": "code",
   "execution_count": 46,
   "metadata": {},
   "outputs": [],
   "source": [
    "class Isık(Fact):\n",
    "\tpass"
   ]
  },
  {
   "cell_type": "code",
   "execution_count": 47,
   "metadata": {},
   "outputs": [],
   "source": [
    "class KarsidanKarsiyeGecme(KnowledgeEngine):\n",
    "\t@Rule(Isık(renk=\"yeşil\"))\n",
    "\tdef yesil_ısık(self):\n",
    "\t\tprint(\"Yeşil ışık yandığı için yürüyebilirsiniz\")\n",
    "\n",
    "\t@Rule(Isık(renk=\"kırmızı\"))\n",
    "\tdef kırmızı_ısık(self):\n",
    "\t\tprint(\"Kırmızı ışık yandığı için lütfen bekleyiniz\")\n",
    "\n",
    "\t@Rule(Isık(renk=\"sarı\"))\n",
    "\tdef sarı_ısık(self):\n",
    "\t\tprint(\"Sarı ışık yanıyor . Lütfen dikkatli olunuz\")"
   ]
  },
  {
   "cell_type": "code",
   "execution_count": 48,
   "metadata": {},
   "outputs": [
    {
     "name": "stdout",
     "output_type": "stream",
     "text": [
      "Kırmızı ışık yandığı için lütfen bekleyiniz\n"
     ]
    }
   ],
   "source": [
    "uzman=KarsidanKarsiyeGecme() \n",
    "uzman.reset()\n",
    "rastgele=choice(['kırmızı','sarı','yeşil'])\n",
    "uzman.declare(Isık(renk=rastgele))\n",
    "uzman.run()"
   ]
  }
 ],
 "metadata": {
  "kernelspec": {
   "display_name": "deneme",
   "language": "python",
   "name": "python3"
  },
  "language_info": {
   "codemirror_mode": {
    "name": "ipython",
    "version": 3
   },
   "file_extension": ".py",
   "mimetype": "text/x-python",
   "name": "python",
   "nbconvert_exporter": "python",
   "pygments_lexer": "ipython3",
   "version": "3.12.5"
  }
 },
 "nbformat": 4,
 "nbformat_minor": 2
}
